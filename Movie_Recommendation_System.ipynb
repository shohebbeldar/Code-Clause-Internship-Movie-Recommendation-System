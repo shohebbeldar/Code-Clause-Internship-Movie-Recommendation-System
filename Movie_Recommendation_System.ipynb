{
  "nbformat": 4,
  "nbformat_minor": 0,
  "metadata": {
    "colab": {
      "provenance": []
    },
    "kernelspec": {
      "name": "python3",
      "display_name": "Python 3"
    },
    "language_info": {
      "name": "python"
    }
  },
  "cells": [
    {
      "cell_type": "markdown",
      "source": [
        "# `Movie Recommendation System`"
      ],
      "metadata": {
        "id": "K50WNFwXJBp1"
      }
    },
    {
      "cell_type": "code",
      "execution_count": 1,
      "metadata": {
        "id": "PPA-Io7xFAgJ"
      },
      "outputs": [],
      "source": [
        "import numpy as np\n",
        "import pandas as pd"
      ]
    },
    {
      "cell_type": "code",
      "source": [
        "import warnings\n",
        "warnings.filterwarnings('ignore')\n",
        "data = pd.read_csv(\"movies.csv\")\n",
        "data"
      ],
      "metadata": {
        "colab": {
          "base_uri": "https://localhost:8080/",
          "height": 1000
        },
        "id": "ccz5QZN9JfU7",
        "outputId": "e221d8e3-7931-4fa1-98b3-90744d001cc4"
      },
      "execution_count": 2,
      "outputs": [
        {
          "output_type": "execute_result",
          "data": {
            "text/plain": [
              "            id                                             title  \\\n",
              "0       615656                                 Meg 2: The Trench   \n",
              "1       758323                               The Pope's Exorcist   \n",
              "2       667538                  Transformers: Rise of the Beasts   \n",
              "3       640146                 Ant-Man and the Wasp: Quantumania   \n",
              "4       677179                                         Creed III   \n",
              "...        ...                                               ...   \n",
              "418650  202518                                              Home   \n",
              "418651  184389                                       Bashful Jim   \n",
              "418652  195999                                 Stealing a Dinner   \n",
              "418653  156411                                 The Last Frontier   \n",
              "418654  246156  Yves Saint Laurent: 5 avenue Marceau 75116 Paris   \n",
              "\n",
              "                                  genres original_language  \\\n",
              "0          Action-Science Fiction-Horror                en   \n",
              "1                Horror-Mystery-Thriller                en   \n",
              "2       Action-Adventure-Science Fiction                en   \n",
              "3       Action-Adventure-Science Fiction                en   \n",
              "4                           Drama-Action                en   \n",
              "...                                  ...               ...   \n",
              "418650                             Drama                tr   \n",
              "418651                               NaN                en   \n",
              "418652                            Comedy                en   \n",
              "418653          Western-Action-Adventure                en   \n",
              "418654                       Documentary                fr   \n",
              "\n",
              "                                                 overview  popularity  \\\n",
              "0       An exploratory dive into the deepest depths of...    8763.998   \n",
              "1       Father Gabriele Amorth Chief Exorcist of the V...    5953.227   \n",
              "2       When a new threat capable of destroying the en...    5409.104   \n",
              "3       Super-Hero partners Scott Lang and Hope van Dy...    4425.387   \n",
              "4       After dominating the boxing world Adonis Creed...    3994.342   \n",
              "...                                                   ...         ...   \n",
              "418650  This is the directorial debut of Muzaffer Ozde...       0.600   \n",
              "418651  A Mack Sennett slapstick comedy short starring...       0.600   \n",
              "418652  “Another exhibition by Prof. Leonidas' troop o...       0.600   \n",
              "418653  A frontier newspaper editor Kirby battles outl...       0.600   \n",
              "418654  A behind-the-scenes look inside Yves Saint Lau...       0.600   \n",
              "\n",
              "                                     production_companies release_date  \\\n",
              "0       Apelles Entertainment-Warner Bros. Pictures-di...   2023-08-02   \n",
              "1       Screen Gems-2.0 Entertainment-Jesus & Mary-Wor...   2023-04-05   \n",
              "2       Skydance-Paramount-di Bonaventura Pictures-Bay...   2023-06-06   \n",
              "3                  Marvel Studios-Kevin Feige Productions   2023-02-15   \n",
              "4       Metro-Goldwyn-Mayer-Proximity Media-Balboa Pro...   2023-03-01   \n",
              "...                                                   ...          ...   \n",
              "418650                                                NaN   2011-11-27   \n",
              "418651                                                NaN   1925-03-07   \n",
              "418652                                                NaN   1899-04-30   \n",
              "418653              Van Beuren Studios-RKO Radio Pictures   1932-09-04   \n",
              "418654  Movimento Productions-Canal+-Transatlantic Vid...   2002-10-01   \n",
              "\n",
              "             budget      revenue  runtime    status  \\\n",
              "0       129000000.0  352056482.0    116.0  Released   \n",
              "1        18000000.0   65675816.0    103.0  Released   \n",
              "2       200000000.0  407045464.0    127.0  Released   \n",
              "3       200000000.0  475766228.0    125.0  Released   \n",
              "4        75000000.0  269000000.0    116.0  Released   \n",
              "...             ...          ...      ...       ...   \n",
              "418650          0.0          0.0     76.0  Released   \n",
              "418651          0.0          0.0      NaN  Released   \n",
              "418652          0.0          0.0      1.0  Released   \n",
              "418653          0.0          0.0    213.0  Released   \n",
              "418654          0.0          0.0     85.0  Released   \n",
              "\n",
              "                                                  tagline  vote_average  \\\n",
              "0                                       Back for seconds.         7.079   \n",
              "1       Inspired by the actual files of Father Gabriel...         7.433   \n",
              "2                                          Unite or fall.         7.340   \n",
              "3                 Witness the beginning of a new dynasty.         6.507   \n",
              "4                           You can't run from your past.         7.262   \n",
              "...                                                   ...           ...   \n",
              "418650                                                NaN         5.800   \n",
              "418651                                                NaN         0.000   \n",
              "418652                                                NaN         3.000   \n",
              "418653                                                NaN         6.000   \n",
              "418654                                                NaN         7.000   \n",
              "\n",
              "        vote_count                                            credits  \\\n",
              "0           1365.0  Jason Statham-Wu Jing-Shuya Sophia Cai-Sergio ...   \n",
              "1            545.0  Russell Crowe-Daniel Zovatto-Alex Essoe-Franco...   \n",
              "2           1007.0  Anthony Ramos-Dominique Fishback-Luna Lauren V...   \n",
              "3           2811.0  Paul Rudd-Evangeline Lilly-Jonathan Majors-Kat...   \n",
              "4           1129.0  Michael B. Jordan-Tessa Thompson-Jonathan Majo...   \n",
              "...            ...                                                ...   \n",
              "418650         6.0  Kanbolat Görkem Arslan-Muzaffer Özdemir-Muhamm...   \n",
              "418651         0.0                                       Ralph Graves   \n",
              "418652         2.0                                                NaN   \n",
              "418653         1.0  Lon Chaney Jr.-Dorothy Gulliver-Francis X. Bus...   \n",
              "418654         1.0  Yves Saint-Laurent-Pierre Bergé-Laetitia Casta...   \n",
              "\n",
              "                                                 keywords  \\\n",
              "0                     based on novel or book-sequel-kaiju   \n",
              "1       spain-rome italy-vatican-pope-pig-possession-c...   \n",
              "2       peru-alien-end of the world-based on cartoon-b...   \n",
              "3       hero-ant-sequel-superhero-based on comic-famil...   \n",
              "4       philadelphia pennsylvania-husband wife relatio...   \n",
              "...                                                   ...   \n",
              "418650                                                NaN   \n",
              "418651                                                NaN   \n",
              "418652                         cat-dog-animal-silent film   \n",
              "418653                                       movie serial   \n",
              "418654                                                NaN   \n",
              "\n",
              "                             poster_path                     backdrop_path  \\\n",
              "0       /4m1Au3YkjqsxF8iwQy0fPYSxE0h.jpg  /qlxy8yo5bcgUw2KAmmojUKp4rHd.jpg   \n",
              "1       /9JBEPLTPSm0d1mbEcLxULjJq9Eh.jpg  /hiHGRbyTcbZoLsYYkO4QiCLYe34.jpg   \n",
              "2       /gPbM0MK8CP8A174rmUwGsADNYKD.jpg  /woJbg7ZqidhpvqFGGMRhWQNoxwa.jpg   \n",
              "3       /qnqGbB22YJ7dSs4o6M7exTpNxPz.jpg  /m8JTwHFwX7I7JY5fPe4SjqejWag.jpg   \n",
              "4       /cvsXj3I9Q2iyyIo95AecSd1tad7.jpg  /5i6SjyDbDWqyun8klUuCxrlFbyw.jpg   \n",
              "...                                  ...                               ...   \n",
              "418650  /tWwnfJSgNmSdIei0LZrdyvqL8qp.jpg                               NaN   \n",
              "418651                               NaN                               NaN   \n",
              "418652  /nHXEBwHmKfccFyAJHbCx6rHtnyE.jpg                               NaN   \n",
              "418653  /qHSPWURzZTcZQBHv60Py9bqYJO0.jpg  /5uKD53OsgFfsosmbhwWBoSxL2lK.jpg   \n",
              "418654                               NaN                               NaN   \n",
              "\n",
              "                                          recommendations  \n",
              "0       1006462-298618-569094-1061181-346698-1076487-6...  \n",
              "1       713704-296271-502356-1076605-1084225-1008005-9...  \n",
              "2       496450-569094-298618-385687-877100-598331-4628...  \n",
              "3       823999-676841-868759-734048-267805-965839-1033...  \n",
              "4       965839-267805-943822-842942-1035806-823999-107...  \n",
              "...                                                   ...  \n",
              "418650                                                NaN  \n",
              "418651                                                NaN  \n",
              "418652                                                NaN  \n",
              "418653                                                NaN  \n",
              "418654                                                NaN  \n",
              "\n",
              "[418655 rows x 20 columns]"
            ],
            "text/html": [
              "\n",
              "  <div id=\"df-4c120501-9539-4dba-8348-b324c21ebec3\" class=\"colab-df-container\">\n",
              "    <div>\n",
              "<style scoped>\n",
              "    .dataframe tbody tr th:only-of-type {\n",
              "        vertical-align: middle;\n",
              "    }\n",
              "\n",
              "    .dataframe tbody tr th {\n",
              "        vertical-align: top;\n",
              "    }\n",
              "\n",
              "    .dataframe thead th {\n",
              "        text-align: right;\n",
              "    }\n",
              "</style>\n",
              "<table border=\"1\" class=\"dataframe\">\n",
              "  <thead>\n",
              "    <tr style=\"text-align: right;\">\n",
              "      <th></th>\n",
              "      <th>id</th>\n",
              "      <th>title</th>\n",
              "      <th>genres</th>\n",
              "      <th>original_language</th>\n",
              "      <th>overview</th>\n",
              "      <th>popularity</th>\n",
              "      <th>production_companies</th>\n",
              "      <th>release_date</th>\n",
              "      <th>budget</th>\n",
              "      <th>revenue</th>\n",
              "      <th>runtime</th>\n",
              "      <th>status</th>\n",
              "      <th>tagline</th>\n",
              "      <th>vote_average</th>\n",
              "      <th>vote_count</th>\n",
              "      <th>credits</th>\n",
              "      <th>keywords</th>\n",
              "      <th>poster_path</th>\n",
              "      <th>backdrop_path</th>\n",
              "      <th>recommendations</th>\n",
              "    </tr>\n",
              "  </thead>\n",
              "  <tbody>\n",
              "    <tr>\n",
              "      <th>0</th>\n",
              "      <td>615656</td>\n",
              "      <td>Meg 2: The Trench</td>\n",
              "      <td>Action-Science Fiction-Horror</td>\n",
              "      <td>en</td>\n",
              "      <td>An exploratory dive into the deepest depths of...</td>\n",
              "      <td>8763.998</td>\n",
              "      <td>Apelles Entertainment-Warner Bros. Pictures-di...</td>\n",
              "      <td>2023-08-02</td>\n",
              "      <td>129000000.0</td>\n",
              "      <td>352056482.0</td>\n",
              "      <td>116.0</td>\n",
              "      <td>Released</td>\n",
              "      <td>Back for seconds.</td>\n",
              "      <td>7.079</td>\n",
              "      <td>1365.0</td>\n",
              "      <td>Jason Statham-Wu Jing-Shuya Sophia Cai-Sergio ...</td>\n",
              "      <td>based on novel or book-sequel-kaiju</td>\n",
              "      <td>/4m1Au3YkjqsxF8iwQy0fPYSxE0h.jpg</td>\n",
              "      <td>/qlxy8yo5bcgUw2KAmmojUKp4rHd.jpg</td>\n",
              "      <td>1006462-298618-569094-1061181-346698-1076487-6...</td>\n",
              "    </tr>\n",
              "    <tr>\n",
              "      <th>1</th>\n",
              "      <td>758323</td>\n",
              "      <td>The Pope's Exorcist</td>\n",
              "      <td>Horror-Mystery-Thriller</td>\n",
              "      <td>en</td>\n",
              "      <td>Father Gabriele Amorth Chief Exorcist of the V...</td>\n",
              "      <td>5953.227</td>\n",
              "      <td>Screen Gems-2.0 Entertainment-Jesus &amp; Mary-Wor...</td>\n",
              "      <td>2023-04-05</td>\n",
              "      <td>18000000.0</td>\n",
              "      <td>65675816.0</td>\n",
              "      <td>103.0</td>\n",
              "      <td>Released</td>\n",
              "      <td>Inspired by the actual files of Father Gabriel...</td>\n",
              "      <td>7.433</td>\n",
              "      <td>545.0</td>\n",
              "      <td>Russell Crowe-Daniel Zovatto-Alex Essoe-Franco...</td>\n",
              "      <td>spain-rome italy-vatican-pope-pig-possession-c...</td>\n",
              "      <td>/9JBEPLTPSm0d1mbEcLxULjJq9Eh.jpg</td>\n",
              "      <td>/hiHGRbyTcbZoLsYYkO4QiCLYe34.jpg</td>\n",
              "      <td>713704-296271-502356-1076605-1084225-1008005-9...</td>\n",
              "    </tr>\n",
              "    <tr>\n",
              "      <th>2</th>\n",
              "      <td>667538</td>\n",
              "      <td>Transformers: Rise of the Beasts</td>\n",
              "      <td>Action-Adventure-Science Fiction</td>\n",
              "      <td>en</td>\n",
              "      <td>When a new threat capable of destroying the en...</td>\n",
              "      <td>5409.104</td>\n",
              "      <td>Skydance-Paramount-di Bonaventura Pictures-Bay...</td>\n",
              "      <td>2023-06-06</td>\n",
              "      <td>200000000.0</td>\n",
              "      <td>407045464.0</td>\n",
              "      <td>127.0</td>\n",
              "      <td>Released</td>\n",
              "      <td>Unite or fall.</td>\n",
              "      <td>7.340</td>\n",
              "      <td>1007.0</td>\n",
              "      <td>Anthony Ramos-Dominique Fishback-Luna Lauren V...</td>\n",
              "      <td>peru-alien-end of the world-based on cartoon-b...</td>\n",
              "      <td>/gPbM0MK8CP8A174rmUwGsADNYKD.jpg</td>\n",
              "      <td>/woJbg7ZqidhpvqFGGMRhWQNoxwa.jpg</td>\n",
              "      <td>496450-569094-298618-385687-877100-598331-4628...</td>\n",
              "    </tr>\n",
              "    <tr>\n",
              "      <th>3</th>\n",
              "      <td>640146</td>\n",
              "      <td>Ant-Man and the Wasp: Quantumania</td>\n",
              "      <td>Action-Adventure-Science Fiction</td>\n",
              "      <td>en</td>\n",
              "      <td>Super-Hero partners Scott Lang and Hope van Dy...</td>\n",
              "      <td>4425.387</td>\n",
              "      <td>Marvel Studios-Kevin Feige Productions</td>\n",
              "      <td>2023-02-15</td>\n",
              "      <td>200000000.0</td>\n",
              "      <td>475766228.0</td>\n",
              "      <td>125.0</td>\n",
              "      <td>Released</td>\n",
              "      <td>Witness the beginning of a new dynasty.</td>\n",
              "      <td>6.507</td>\n",
              "      <td>2811.0</td>\n",
              "      <td>Paul Rudd-Evangeline Lilly-Jonathan Majors-Kat...</td>\n",
              "      <td>hero-ant-sequel-superhero-based on comic-famil...</td>\n",
              "      <td>/qnqGbB22YJ7dSs4o6M7exTpNxPz.jpg</td>\n",
              "      <td>/m8JTwHFwX7I7JY5fPe4SjqejWag.jpg</td>\n",
              "      <td>823999-676841-868759-734048-267805-965839-1033...</td>\n",
              "    </tr>\n",
              "    <tr>\n",
              "      <th>4</th>\n",
              "      <td>677179</td>\n",
              "      <td>Creed III</td>\n",
              "      <td>Drama-Action</td>\n",
              "      <td>en</td>\n",
              "      <td>After dominating the boxing world Adonis Creed...</td>\n",
              "      <td>3994.342</td>\n",
              "      <td>Metro-Goldwyn-Mayer-Proximity Media-Balboa Pro...</td>\n",
              "      <td>2023-03-01</td>\n",
              "      <td>75000000.0</td>\n",
              "      <td>269000000.0</td>\n",
              "      <td>116.0</td>\n",
              "      <td>Released</td>\n",
              "      <td>You can't run from your past.</td>\n",
              "      <td>7.262</td>\n",
              "      <td>1129.0</td>\n",
              "      <td>Michael B. Jordan-Tessa Thompson-Jonathan Majo...</td>\n",
              "      <td>philadelphia pennsylvania-husband wife relatio...</td>\n",
              "      <td>/cvsXj3I9Q2iyyIo95AecSd1tad7.jpg</td>\n",
              "      <td>/5i6SjyDbDWqyun8klUuCxrlFbyw.jpg</td>\n",
              "      <td>965839-267805-943822-842942-1035806-823999-107...</td>\n",
              "    </tr>\n",
              "    <tr>\n",
              "      <th>...</th>\n",
              "      <td>...</td>\n",
              "      <td>...</td>\n",
              "      <td>...</td>\n",
              "      <td>...</td>\n",
              "      <td>...</td>\n",
              "      <td>...</td>\n",
              "      <td>...</td>\n",
              "      <td>...</td>\n",
              "      <td>...</td>\n",
              "      <td>...</td>\n",
              "      <td>...</td>\n",
              "      <td>...</td>\n",
              "      <td>...</td>\n",
              "      <td>...</td>\n",
              "      <td>...</td>\n",
              "      <td>...</td>\n",
              "      <td>...</td>\n",
              "      <td>...</td>\n",
              "      <td>...</td>\n",
              "      <td>...</td>\n",
              "    </tr>\n",
              "    <tr>\n",
              "      <th>418650</th>\n",
              "      <td>202518</td>\n",
              "      <td>Home</td>\n",
              "      <td>Drama</td>\n",
              "      <td>tr</td>\n",
              "      <td>This is the directorial debut of Muzaffer Ozde...</td>\n",
              "      <td>0.600</td>\n",
              "      <td>NaN</td>\n",
              "      <td>2011-11-27</td>\n",
              "      <td>0.0</td>\n",
              "      <td>0.0</td>\n",
              "      <td>76.0</td>\n",
              "      <td>Released</td>\n",
              "      <td>NaN</td>\n",
              "      <td>5.800</td>\n",
              "      <td>6.0</td>\n",
              "      <td>Kanbolat Görkem Arslan-Muzaffer Özdemir-Muhamm...</td>\n",
              "      <td>NaN</td>\n",
              "      <td>/tWwnfJSgNmSdIei0LZrdyvqL8qp.jpg</td>\n",
              "      <td>NaN</td>\n",
              "      <td>NaN</td>\n",
              "    </tr>\n",
              "    <tr>\n",
              "      <th>418651</th>\n",
              "      <td>184389</td>\n",
              "      <td>Bashful Jim</td>\n",
              "      <td>NaN</td>\n",
              "      <td>en</td>\n",
              "      <td>A Mack Sennett slapstick comedy short starring...</td>\n",
              "      <td>0.600</td>\n",
              "      <td>NaN</td>\n",
              "      <td>1925-03-07</td>\n",
              "      <td>0.0</td>\n",
              "      <td>0.0</td>\n",
              "      <td>NaN</td>\n",
              "      <td>Released</td>\n",
              "      <td>NaN</td>\n",
              "      <td>0.000</td>\n",
              "      <td>0.0</td>\n",
              "      <td>Ralph Graves</td>\n",
              "      <td>NaN</td>\n",
              "      <td>NaN</td>\n",
              "      <td>NaN</td>\n",
              "      <td>NaN</td>\n",
              "    </tr>\n",
              "    <tr>\n",
              "      <th>418652</th>\n",
              "      <td>195999</td>\n",
              "      <td>Stealing a Dinner</td>\n",
              "      <td>Comedy</td>\n",
              "      <td>en</td>\n",
              "      <td>“Another exhibition by Prof. Leonidas' troop o...</td>\n",
              "      <td>0.600</td>\n",
              "      <td>NaN</td>\n",
              "      <td>1899-04-30</td>\n",
              "      <td>0.0</td>\n",
              "      <td>0.0</td>\n",
              "      <td>1.0</td>\n",
              "      <td>Released</td>\n",
              "      <td>NaN</td>\n",
              "      <td>3.000</td>\n",
              "      <td>2.0</td>\n",
              "      <td>NaN</td>\n",
              "      <td>cat-dog-animal-silent film</td>\n",
              "      <td>/nHXEBwHmKfccFyAJHbCx6rHtnyE.jpg</td>\n",
              "      <td>NaN</td>\n",
              "      <td>NaN</td>\n",
              "    </tr>\n",
              "    <tr>\n",
              "      <th>418653</th>\n",
              "      <td>156411</td>\n",
              "      <td>The Last Frontier</td>\n",
              "      <td>Western-Action-Adventure</td>\n",
              "      <td>en</td>\n",
              "      <td>A frontier newspaper editor Kirby battles outl...</td>\n",
              "      <td>0.600</td>\n",
              "      <td>Van Beuren Studios-RKO Radio Pictures</td>\n",
              "      <td>1932-09-04</td>\n",
              "      <td>0.0</td>\n",
              "      <td>0.0</td>\n",
              "      <td>213.0</td>\n",
              "      <td>Released</td>\n",
              "      <td>NaN</td>\n",
              "      <td>6.000</td>\n",
              "      <td>1.0</td>\n",
              "      <td>Lon Chaney Jr.-Dorothy Gulliver-Francis X. Bus...</td>\n",
              "      <td>movie serial</td>\n",
              "      <td>/qHSPWURzZTcZQBHv60Py9bqYJO0.jpg</td>\n",
              "      <td>/5uKD53OsgFfsosmbhwWBoSxL2lK.jpg</td>\n",
              "      <td>NaN</td>\n",
              "    </tr>\n",
              "    <tr>\n",
              "      <th>418654</th>\n",
              "      <td>246156</td>\n",
              "      <td>Yves Saint Laurent: 5 avenue Marceau 75116 Paris</td>\n",
              "      <td>Documentary</td>\n",
              "      <td>fr</td>\n",
              "      <td>A behind-the-scenes look inside Yves Saint Lau...</td>\n",
              "      <td>0.600</td>\n",
              "      <td>Movimento Productions-Canal+-Transatlantic Vid...</td>\n",
              "      <td>2002-10-01</td>\n",
              "      <td>0.0</td>\n",
              "      <td>0.0</td>\n",
              "      <td>85.0</td>\n",
              "      <td>Released</td>\n",
              "      <td>NaN</td>\n",
              "      <td>7.000</td>\n",
              "      <td>1.0</td>\n",
              "      <td>Yves Saint-Laurent-Pierre Bergé-Laetitia Casta...</td>\n",
              "      <td>NaN</td>\n",
              "      <td>NaN</td>\n",
              "      <td>NaN</td>\n",
              "      <td>NaN</td>\n",
              "    </tr>\n",
              "  </tbody>\n",
              "</table>\n",
              "<p>418655 rows × 20 columns</p>\n",
              "</div>\n",
              "    <div class=\"colab-df-buttons\">\n",
              "\n",
              "  <div class=\"colab-df-container\">\n",
              "    <button class=\"colab-df-convert\" onclick=\"convertToInteractive('df-4c120501-9539-4dba-8348-b324c21ebec3')\"\n",
              "            title=\"Convert this dataframe to an interactive table.\"\n",
              "            style=\"display:none;\">\n",
              "\n",
              "  <svg xmlns=\"http://www.w3.org/2000/svg\" height=\"24px\" viewBox=\"0 -960 960 960\">\n",
              "    <path d=\"M120-120v-720h720v720H120Zm60-500h600v-160H180v160Zm220 220h160v-160H400v160Zm0 220h160v-160H400v160ZM180-400h160v-160H180v160Zm440 0h160v-160H620v160ZM180-180h160v-160H180v160Zm440 0h160v-160H620v160Z\"/>\n",
              "  </svg>\n",
              "    </button>\n",
              "\n",
              "  <style>\n",
              "    .colab-df-container {\n",
              "      display:flex;\n",
              "      gap: 12px;\n",
              "    }\n",
              "\n",
              "    .colab-df-convert {\n",
              "      background-color: #E8F0FE;\n",
              "      border: none;\n",
              "      border-radius: 50%;\n",
              "      cursor: pointer;\n",
              "      display: none;\n",
              "      fill: #1967D2;\n",
              "      height: 32px;\n",
              "      padding: 0 0 0 0;\n",
              "      width: 32px;\n",
              "    }\n",
              "\n",
              "    .colab-df-convert:hover {\n",
              "      background-color: #E2EBFA;\n",
              "      box-shadow: 0px 1px 2px rgba(60, 64, 67, 0.3), 0px 1px 3px 1px rgba(60, 64, 67, 0.15);\n",
              "      fill: #174EA6;\n",
              "    }\n",
              "\n",
              "    .colab-df-buttons div {\n",
              "      margin-bottom: 4px;\n",
              "    }\n",
              "\n",
              "    [theme=dark] .colab-df-convert {\n",
              "      background-color: #3B4455;\n",
              "      fill: #D2E3FC;\n",
              "    }\n",
              "\n",
              "    [theme=dark] .colab-df-convert:hover {\n",
              "      background-color: #434B5C;\n",
              "      box-shadow: 0px 1px 3px 1px rgba(0, 0, 0, 0.15);\n",
              "      filter: drop-shadow(0px 1px 2px rgba(0, 0, 0, 0.3));\n",
              "      fill: #FFFFFF;\n",
              "    }\n",
              "  </style>\n",
              "\n",
              "    <script>\n",
              "      const buttonEl =\n",
              "        document.querySelector('#df-4c120501-9539-4dba-8348-b324c21ebec3 button.colab-df-convert');\n",
              "      buttonEl.style.display =\n",
              "        google.colab.kernel.accessAllowed ? 'block' : 'none';\n",
              "\n",
              "      async function convertToInteractive(key) {\n",
              "        const element = document.querySelector('#df-4c120501-9539-4dba-8348-b324c21ebec3');\n",
              "        const dataTable =\n",
              "          await google.colab.kernel.invokeFunction('convertToInteractive',\n",
              "                                                    [key], {});\n",
              "        if (!dataTable) return;\n",
              "\n",
              "        const docLinkHtml = 'Like what you see? Visit the ' +\n",
              "          '<a target=\"_blank\" href=https://colab.research.google.com/notebooks/data_table.ipynb>data table notebook</a>'\n",
              "          + ' to learn more about interactive tables.';\n",
              "        element.innerHTML = '';\n",
              "        dataTable['output_type'] = 'display_data';\n",
              "        await google.colab.output.renderOutput(dataTable, element);\n",
              "        const docLink = document.createElement('div');\n",
              "        docLink.innerHTML = docLinkHtml;\n",
              "        element.appendChild(docLink);\n",
              "      }\n",
              "    </script>\n",
              "  </div>\n",
              "\n",
              "\n",
              "<div id=\"df-af7bf6bb-bb2f-401b-bb4e-757ce874d0a5\">\n",
              "  <button class=\"colab-df-quickchart\" onclick=\"quickchart('df-af7bf6bb-bb2f-401b-bb4e-757ce874d0a5')\"\n",
              "            title=\"Suggest charts\"\n",
              "            style=\"display:none;\">\n",
              "\n",
              "<svg xmlns=\"http://www.w3.org/2000/svg\" height=\"24px\"viewBox=\"0 0 24 24\"\n",
              "     width=\"24px\">\n",
              "    <g>\n",
              "        <path d=\"M19 3H5c-1.1 0-2 .9-2 2v14c0 1.1.9 2 2 2h14c1.1 0 2-.9 2-2V5c0-1.1-.9-2-2-2zM9 17H7v-7h2v7zm4 0h-2V7h2v10zm4 0h-2v-4h2v4z\"/>\n",
              "    </g>\n",
              "</svg>\n",
              "  </button>\n",
              "\n",
              "<style>\n",
              "  .colab-df-quickchart {\n",
              "      --bg-color: #E8F0FE;\n",
              "      --fill-color: #1967D2;\n",
              "      --hover-bg-color: #E2EBFA;\n",
              "      --hover-fill-color: #174EA6;\n",
              "      --disabled-fill-color: #AAA;\n",
              "      --disabled-bg-color: #DDD;\n",
              "  }\n",
              "\n",
              "  [theme=dark] .colab-df-quickchart {\n",
              "      --bg-color: #3B4455;\n",
              "      --fill-color: #D2E3FC;\n",
              "      --hover-bg-color: #434B5C;\n",
              "      --hover-fill-color: #FFFFFF;\n",
              "      --disabled-bg-color: #3B4455;\n",
              "      --disabled-fill-color: #666;\n",
              "  }\n",
              "\n",
              "  .colab-df-quickchart {\n",
              "    background-color: var(--bg-color);\n",
              "    border: none;\n",
              "    border-radius: 50%;\n",
              "    cursor: pointer;\n",
              "    display: none;\n",
              "    fill: var(--fill-color);\n",
              "    height: 32px;\n",
              "    padding: 0;\n",
              "    width: 32px;\n",
              "  }\n",
              "\n",
              "  .colab-df-quickchart:hover {\n",
              "    background-color: var(--hover-bg-color);\n",
              "    box-shadow: 0 1px 2px rgba(60, 64, 67, 0.3), 0 1px 3px 1px rgba(60, 64, 67, 0.15);\n",
              "    fill: var(--button-hover-fill-color);\n",
              "  }\n",
              "\n",
              "  .colab-df-quickchart-complete:disabled,\n",
              "  .colab-df-quickchart-complete:disabled:hover {\n",
              "    background-color: var(--disabled-bg-color);\n",
              "    fill: var(--disabled-fill-color);\n",
              "    box-shadow: none;\n",
              "  }\n",
              "\n",
              "  .colab-df-spinner {\n",
              "    border: 2px solid var(--fill-color);\n",
              "    border-color: transparent;\n",
              "    border-bottom-color: var(--fill-color);\n",
              "    animation:\n",
              "      spin 1s steps(1) infinite;\n",
              "  }\n",
              "\n",
              "  @keyframes spin {\n",
              "    0% {\n",
              "      border-color: transparent;\n",
              "      border-bottom-color: var(--fill-color);\n",
              "      border-left-color: var(--fill-color);\n",
              "    }\n",
              "    20% {\n",
              "      border-color: transparent;\n",
              "      border-left-color: var(--fill-color);\n",
              "      border-top-color: var(--fill-color);\n",
              "    }\n",
              "    30% {\n",
              "      border-color: transparent;\n",
              "      border-left-color: var(--fill-color);\n",
              "      border-top-color: var(--fill-color);\n",
              "      border-right-color: var(--fill-color);\n",
              "    }\n",
              "    40% {\n",
              "      border-color: transparent;\n",
              "      border-right-color: var(--fill-color);\n",
              "      border-top-color: var(--fill-color);\n",
              "    }\n",
              "    60% {\n",
              "      border-color: transparent;\n",
              "      border-right-color: var(--fill-color);\n",
              "    }\n",
              "    80% {\n",
              "      border-color: transparent;\n",
              "      border-right-color: var(--fill-color);\n",
              "      border-bottom-color: var(--fill-color);\n",
              "    }\n",
              "    90% {\n",
              "      border-color: transparent;\n",
              "      border-bottom-color: var(--fill-color);\n",
              "    }\n",
              "  }\n",
              "</style>\n",
              "\n",
              "  <script>\n",
              "    async function quickchart(key) {\n",
              "      const quickchartButtonEl =\n",
              "        document.querySelector('#' + key + ' button');\n",
              "      quickchartButtonEl.disabled = true;  // To prevent multiple clicks.\n",
              "      quickchartButtonEl.classList.add('colab-df-spinner');\n",
              "      try {\n",
              "        const charts = await google.colab.kernel.invokeFunction(\n",
              "            'suggestCharts', [key], {});\n",
              "      } catch (error) {\n",
              "        console.error('Error during call to suggestCharts:', error);\n",
              "      }\n",
              "      quickchartButtonEl.classList.remove('colab-df-spinner');\n",
              "      quickchartButtonEl.classList.add('colab-df-quickchart-complete');\n",
              "    }\n",
              "    (() => {\n",
              "      let quickchartButtonEl =\n",
              "        document.querySelector('#df-af7bf6bb-bb2f-401b-bb4e-757ce874d0a5 button');\n",
              "      quickchartButtonEl.style.display =\n",
              "        google.colab.kernel.accessAllowed ? 'block' : 'none';\n",
              "    })();\n",
              "  </script>\n",
              "</div>\n",
              "\n",
              "  <div id=\"id_2d922be7-9ced-4d60-98a4-ef46c6d36974\">\n",
              "    <style>\n",
              "      .colab-df-generate {\n",
              "        background-color: #E8F0FE;\n",
              "        border: none;\n",
              "        border-radius: 50%;\n",
              "        cursor: pointer;\n",
              "        display: none;\n",
              "        fill: #1967D2;\n",
              "        height: 32px;\n",
              "        padding: 0 0 0 0;\n",
              "        width: 32px;\n",
              "      }\n",
              "\n",
              "      .colab-df-generate:hover {\n",
              "        background-color: #E2EBFA;\n",
              "        box-shadow: 0px 1px 2px rgba(60, 64, 67, 0.3), 0px 1px 3px 1px rgba(60, 64, 67, 0.15);\n",
              "        fill: #174EA6;\n",
              "      }\n",
              "\n",
              "      [theme=dark] .colab-df-generate {\n",
              "        background-color: #3B4455;\n",
              "        fill: #D2E3FC;\n",
              "      }\n",
              "\n",
              "      [theme=dark] .colab-df-generate:hover {\n",
              "        background-color: #434B5C;\n",
              "        box-shadow: 0px 1px 3px 1px rgba(0, 0, 0, 0.15);\n",
              "        filter: drop-shadow(0px 1px 2px rgba(0, 0, 0, 0.3));\n",
              "        fill: #FFFFFF;\n",
              "      }\n",
              "    </style>\n",
              "    <button class=\"colab-df-generate\" onclick=\"generateWithVariable('data')\"\n",
              "            title=\"Generate code using this dataframe.\"\n",
              "            style=\"display:none;\">\n",
              "\n",
              "  <svg xmlns=\"http://www.w3.org/2000/svg\" height=\"24px\"viewBox=\"0 0 24 24\"\n",
              "       width=\"24px\">\n",
              "    <path d=\"M7,19H8.4L18.45,9,17,7.55,7,17.6ZM5,21V16.75L18.45,3.32a2,2,0,0,1,2.83,0l1.4,1.43a1.91,1.91,0,0,1,.58,1.4,1.91,1.91,0,0,1-.58,1.4L9.25,21ZM18.45,9,17,7.55Zm-12,3A5.31,5.31,0,0,0,4.9,8.1,5.31,5.31,0,0,0,1,6.5,5.31,5.31,0,0,0,4.9,4.9,5.31,5.31,0,0,0,6.5,1,5.31,5.31,0,0,0,8.1,4.9,5.31,5.31,0,0,0,12,6.5,5.46,5.46,0,0,0,6.5,12Z\"/>\n",
              "  </svg>\n",
              "    </button>\n",
              "    <script>\n",
              "      (() => {\n",
              "      const buttonEl =\n",
              "        document.querySelector('#id_2d922be7-9ced-4d60-98a4-ef46c6d36974 button.colab-df-generate');\n",
              "      buttonEl.style.display =\n",
              "        google.colab.kernel.accessAllowed ? 'block' : 'none';\n",
              "\n",
              "      buttonEl.onclick = () => {\n",
              "        google.colab.notebook.generateWithVariable('data');\n",
              "      }\n",
              "      })();\n",
              "    </script>\n",
              "  </div>\n",
              "\n",
              "    </div>\n",
              "  </div>\n"
            ]
          },
          "metadata": {},
          "execution_count": 2
        }
      ]
    },
    {
      "cell_type": "markdown",
      "source": [
        "# **Analysing Data**"
      ],
      "metadata": {
        "id": "_0-4mbwnJlQE"
      }
    },
    {
      "cell_type": "code",
      "source": [
        "print(data.shape)"
      ],
      "metadata": {
        "colab": {
          "base_uri": "https://localhost:8080/"
        },
        "id": "88QxGPWaJjpc",
        "outputId": "a3fd1f11-19e2-41ba-bf78-94a00f07996c"
      },
      "execution_count": 3,
      "outputs": [
        {
          "output_type": "stream",
          "name": "stdout",
          "text": [
            "(418655, 20)\n"
          ]
        }
      ]
    },
    {
      "cell_type": "code",
      "source": [
        "data.info()"
      ],
      "metadata": {
        "colab": {
          "base_uri": "https://localhost:8080/"
        },
        "id": "EIV8yE7AJ6Cn",
        "outputId": "091c1c2b-f7d6-4c01-e0e3-4614ff2643b7"
      },
      "execution_count": 4,
      "outputs": [
        {
          "output_type": "stream",
          "name": "stdout",
          "text": [
            "<class 'pandas.core.frame.DataFrame'>\n",
            "RangeIndex: 418655 entries, 0 to 418654\n",
            "Data columns (total 20 columns):\n",
            " #   Column                Non-Null Count   Dtype  \n",
            "---  ------                --------------   -----  \n",
            " 0   id                    418655 non-null  int64  \n",
            " 1   title                 418654 non-null  object \n",
            " 2   genres                340568 non-null  object \n",
            " 3   original_language     418655 non-null  object \n",
            " 4   overview              368754 non-null  object \n",
            " 5   popularity            418655 non-null  float64\n",
            " 6   production_companies  243492 non-null  object \n",
            " 7   release_date          407390 non-null  object \n",
            " 8   budget                418655 non-null  float64\n",
            " 9   revenue               418655 non-null  float64\n",
            " 10  runtime               403312 non-null  float64\n",
            " 11  status                418655 non-null  object \n",
            " 12  tagline               83662 non-null   object \n",
            " 13  vote_average          418655 non-null  float64\n",
            " 14  vote_count            418655 non-null  float64\n",
            " 15  credits               342693 non-null  object \n",
            " 16  keywords              161743 non-null  object \n",
            " 17  poster_path           341847 non-null  object \n",
            " 18  backdrop_path         178010 non-null  object \n",
            " 19  recommendations       34497 non-null   object \n",
            "dtypes: float64(6), int64(1), object(13)\n",
            "memory usage: 63.9+ MB\n"
          ]
        }
      ]
    },
    {
      "cell_type": "code",
      "source": [
        "data.isnull().sum()"
      ],
      "metadata": {
        "colab": {
          "base_uri": "https://localhost:8080/"
        },
        "id": "488eKqebJ7kT",
        "outputId": "190a64ba-aec0-41df-8c25-8c2d1a869df3"
      },
      "execution_count": 5,
      "outputs": [
        {
          "output_type": "execute_result",
          "data": {
            "text/plain": [
              "id                           0\n",
              "title                        1\n",
              "genres                   78087\n",
              "original_language            0\n",
              "overview                 49901\n",
              "popularity                   0\n",
              "production_companies    175163\n",
              "release_date             11265\n",
              "budget                       0\n",
              "revenue                      0\n",
              "runtime                  15343\n",
              "status                       0\n",
              "tagline                 334993\n",
              "vote_average                 0\n",
              "vote_count                   0\n",
              "credits                  75962\n",
              "keywords                256912\n",
              "poster_path              76808\n",
              "backdrop_path           240645\n",
              "recommendations         384158\n",
              "dtype: int64"
            ]
          },
          "metadata": {},
          "execution_count": 5
        }
      ]
    },
    {
      "cell_type": "code",
      "source": [
        "data.duplicated().sum()"
      ],
      "metadata": {
        "id": "6SMH58CGJ9Hg",
        "colab": {
          "base_uri": "https://localhost:8080/"
        },
        "outputId": "1dd24fed-1c28-4b68-ce82-30e589b1fe70"
      },
      "execution_count": 6,
      "outputs": [
        {
          "output_type": "execute_result",
          "data": {
            "text/plain": [
              "0"
            ]
          },
          "metadata": {},
          "execution_count": 6
        }
      ]
    },
    {
      "cell_type": "markdown",
      "source": [
        "\n",
        "# **Cleaning Data**"
      ],
      "metadata": {
        "id": "IV4pbmU6KB9V"
      }
    },
    {
      "cell_type": "markdown",
      "source": [
        "# **# Dropping unnecesary title**\n",
        "\n",
        "\n",
        "\n",
        "\n"
      ],
      "metadata": {
        "id": "20j9FFUjKMh0"
      }
    },
    {
      "cell_type": "code",
      "source": [
        "df = data.drop([\"production_companies\", \"popularity\", \"budget\", \"revenue\", \"status\", \"recommendations\", \"runtime\", \"vote_average\", \"backdrop_path\", \"tagline\"], axis=1)\n",
        "df.drop_duplicates(inplace=True)"
      ],
      "metadata": {
        "id": "oFwezPM1KKQu"
      },
      "execution_count": 7,
      "outputs": []
    },
    {
      "cell_type": "code",
      "source": [
        "df.title.duplicated().sum()"
      ],
      "metadata": {
        "id": "v4APrUWeKZUo",
        "colab": {
          "base_uri": "https://localhost:8080/"
        },
        "outputId": "b383515b-812c-44db-c21a-54e83bdb777a"
      },
      "execution_count": 8,
      "outputs": [
        {
          "output_type": "execute_result",
          "data": {
            "text/plain": [
              "43323"
            ]
          },
          "metadata": {},
          "execution_count": 8
        }
      ]
    },
    {
      "cell_type": "code",
      "source": [
        "df[[\"title\", \"release_date\"]].duplicated().sum()"
      ],
      "metadata": {
        "id": "uSvuzUL5KoC8",
        "colab": {
          "base_uri": "https://localhost:8080/"
        },
        "outputId": "fa3cd564-dd72-485a-d837-ad2231605606"
      },
      "execution_count": 9,
      "outputs": [
        {
          "output_type": "execute_result",
          "data": {
            "text/plain": [
              "454"
            ]
          },
          "metadata": {},
          "execution_count": 9
        }
      ]
    },
    {
      "cell_type": "code",
      "source": [
        "df.drop_duplicates(subset=[\"title\",\"release_date\"], inplace=True)"
      ],
      "metadata": {
        "id": "A5Bd54YmKq9_"
      },
      "execution_count": 10,
      "outputs": []
    },
    {
      "cell_type": "code",
      "source": [
        "df = df[df.vote_count >= 350].reset_index()"
      ],
      "metadata": {
        "id": "wAHrDM3gKurk"
      },
      "execution_count": 11,
      "outputs": []
    },
    {
      "cell_type": "code",
      "source": [
        "df.isnull().sum()"
      ],
      "metadata": {
        "id": "wh7T21BWKv8i",
        "colab": {
          "base_uri": "https://localhost:8080/"
        },
        "outputId": "1e7ee668-157f-4a59-c98b-58f891db5f81"
      },
      "execution_count": 12,
      "outputs": [
        {
          "output_type": "execute_result",
          "data": {
            "text/plain": [
              "index                  0\n",
              "id                     0\n",
              "title                  0\n",
              "genres                 0\n",
              "original_language      0\n",
              "overview               1\n",
              "release_date           0\n",
              "vote_count             0\n",
              "credits                8\n",
              "keywords             240\n",
              "poster_path            0\n",
              "dtype: int64"
            ]
          },
          "metadata": {},
          "execution_count": 12
        }
      ]
    },
    {
      "cell_type": "code",
      "source": [
        "df.fillna(\"\", inplace = True)"
      ],
      "metadata": {
        "id": "LlS81R2jKyYq"
      },
      "execution_count": 13,
      "outputs": []
    },
    {
      "cell_type": "code",
      "source": [
        "index = df[(df.genres == \"\") & (df.overview == \"\")].index\n",
        "df.drop(index, inplace=True)"
      ],
      "metadata": {
        "id": "0jEGS87WKzyl"
      },
      "execution_count": 14,
      "outputs": []
    },
    {
      "cell_type": "code",
      "source": [
        "df.genres = df.genres.apply(lambda x: \" \".join(x.split(\"-\")))\n",
        "df.keywords = df.keywords.apply(lambda x: \" \".join(x.split(\"-\")))\n",
        "df.credits = df.credits.apply(lambda x: \" \".join(x.replace(\" \", \"\").split(\"-\")[:5]))"
      ],
      "metadata": {
        "id": "UebLZKabK4K0"
      },
      "execution_count": 15,
      "outputs": []
    },
    {
      "cell_type": "markdown",
      "source": [
        "# Making tags consisting of overview, genre, credits, keywords and original language\n"
      ],
      "metadata": {
        "id": "4BbgVvqlMWoi"
      }
    },
    {
      "cell_type": "code",
      "source": [
        "df[\"tags\"] =df.overview + \" \"+ df.genres + \" \"  +df.credits + \" \" +df.keywords + \" \" + df.original_language"
      ],
      "metadata": {
        "id": "7ltEsBrWK9dA"
      },
      "execution_count": 16,
      "outputs": []
    },
    {
      "cell_type": "markdown",
      "source": [
        "# Making new framework with important features\n"
      ],
      "metadata": {
        "id": "6b_9jPkAMaDh"
      }
    },
    {
      "cell_type": "code",
      "source": [
        "new_df = df[[\"id\", \"title\", \"tags\", 'poster_path']]\n",
        "new_df.tags = new_df.tags.apply(lambda x:x.lower())"
      ],
      "metadata": {
        "id": "FTR2O8I5LAKb"
      },
      "execution_count": 17,
      "outputs": []
    },
    {
      "cell_type": "code",
      "source": [
        "new_df.head()"
      ],
      "metadata": {
        "id": "JMuNXOd8LJHm",
        "colab": {
          "base_uri": "https://localhost:8080/",
          "height": 206
        },
        "outputId": "d34731ea-097f-4a1a-ee80-08b048d6217e"
      },
      "execution_count": 18,
      "outputs": [
        {
          "output_type": "execute_result",
          "data": {
            "text/plain": [
              "       id                              title  \\\n",
              "0  615656                  Meg 2: The Trench   \n",
              "1  758323                The Pope's Exorcist   \n",
              "2  667538   Transformers: Rise of the Beasts   \n",
              "3  640146  Ant-Man and the Wasp: Quantumania   \n",
              "4  677179                          Creed III   \n",
              "\n",
              "                                                tags  \\\n",
              "0  an exploratory dive into the deepest depths of...   \n",
              "1  father gabriele amorth chief exorcist of the v...   \n",
              "2  when a new threat capable of destroying the en...   \n",
              "3  super-hero partners scott lang and hope van dy...   \n",
              "4  after dominating the boxing world adonis creed...   \n",
              "\n",
              "                        poster_path  \n",
              "0  /4m1Au3YkjqsxF8iwQy0fPYSxE0h.jpg  \n",
              "1  /9JBEPLTPSm0d1mbEcLxULjJq9Eh.jpg  \n",
              "2  /gPbM0MK8CP8A174rmUwGsADNYKD.jpg  \n",
              "3  /qnqGbB22YJ7dSs4o6M7exTpNxPz.jpg  \n",
              "4  /cvsXj3I9Q2iyyIo95AecSd1tad7.jpg  "
            ],
            "text/html": [
              "\n",
              "  <div id=\"df-8aeb0ba0-8f80-4f60-91c8-7fa7ba1412dc\" class=\"colab-df-container\">\n",
              "    <div>\n",
              "<style scoped>\n",
              "    .dataframe tbody tr th:only-of-type {\n",
              "        vertical-align: middle;\n",
              "    }\n",
              "\n",
              "    .dataframe tbody tr th {\n",
              "        vertical-align: top;\n",
              "    }\n",
              "\n",
              "    .dataframe thead th {\n",
              "        text-align: right;\n",
              "    }\n",
              "</style>\n",
              "<table border=\"1\" class=\"dataframe\">\n",
              "  <thead>\n",
              "    <tr style=\"text-align: right;\">\n",
              "      <th></th>\n",
              "      <th>id</th>\n",
              "      <th>title</th>\n",
              "      <th>tags</th>\n",
              "      <th>poster_path</th>\n",
              "    </tr>\n",
              "  </thead>\n",
              "  <tbody>\n",
              "    <tr>\n",
              "      <th>0</th>\n",
              "      <td>615656</td>\n",
              "      <td>Meg 2: The Trench</td>\n",
              "      <td>an exploratory dive into the deepest depths of...</td>\n",
              "      <td>/4m1Au3YkjqsxF8iwQy0fPYSxE0h.jpg</td>\n",
              "    </tr>\n",
              "    <tr>\n",
              "      <th>1</th>\n",
              "      <td>758323</td>\n",
              "      <td>The Pope's Exorcist</td>\n",
              "      <td>father gabriele amorth chief exorcist of the v...</td>\n",
              "      <td>/9JBEPLTPSm0d1mbEcLxULjJq9Eh.jpg</td>\n",
              "    </tr>\n",
              "    <tr>\n",
              "      <th>2</th>\n",
              "      <td>667538</td>\n",
              "      <td>Transformers: Rise of the Beasts</td>\n",
              "      <td>when a new threat capable of destroying the en...</td>\n",
              "      <td>/gPbM0MK8CP8A174rmUwGsADNYKD.jpg</td>\n",
              "    </tr>\n",
              "    <tr>\n",
              "      <th>3</th>\n",
              "      <td>640146</td>\n",
              "      <td>Ant-Man and the Wasp: Quantumania</td>\n",
              "      <td>super-hero partners scott lang and hope van dy...</td>\n",
              "      <td>/qnqGbB22YJ7dSs4o6M7exTpNxPz.jpg</td>\n",
              "    </tr>\n",
              "    <tr>\n",
              "      <th>4</th>\n",
              "      <td>677179</td>\n",
              "      <td>Creed III</td>\n",
              "      <td>after dominating the boxing world adonis creed...</td>\n",
              "      <td>/cvsXj3I9Q2iyyIo95AecSd1tad7.jpg</td>\n",
              "    </tr>\n",
              "  </tbody>\n",
              "</table>\n",
              "</div>\n",
              "    <div class=\"colab-df-buttons\">\n",
              "\n",
              "  <div class=\"colab-df-container\">\n",
              "    <button class=\"colab-df-convert\" onclick=\"convertToInteractive('df-8aeb0ba0-8f80-4f60-91c8-7fa7ba1412dc')\"\n",
              "            title=\"Convert this dataframe to an interactive table.\"\n",
              "            style=\"display:none;\">\n",
              "\n",
              "  <svg xmlns=\"http://www.w3.org/2000/svg\" height=\"24px\" viewBox=\"0 -960 960 960\">\n",
              "    <path d=\"M120-120v-720h720v720H120Zm60-500h600v-160H180v160Zm220 220h160v-160H400v160Zm0 220h160v-160H400v160ZM180-400h160v-160H180v160Zm440 0h160v-160H620v160ZM180-180h160v-160H180v160Zm440 0h160v-160H620v160Z\"/>\n",
              "  </svg>\n",
              "    </button>\n",
              "\n",
              "  <style>\n",
              "    .colab-df-container {\n",
              "      display:flex;\n",
              "      gap: 12px;\n",
              "    }\n",
              "\n",
              "    .colab-df-convert {\n",
              "      background-color: #E8F0FE;\n",
              "      border: none;\n",
              "      border-radius: 50%;\n",
              "      cursor: pointer;\n",
              "      display: none;\n",
              "      fill: #1967D2;\n",
              "      height: 32px;\n",
              "      padding: 0 0 0 0;\n",
              "      width: 32px;\n",
              "    }\n",
              "\n",
              "    .colab-df-convert:hover {\n",
              "      background-color: #E2EBFA;\n",
              "      box-shadow: 0px 1px 2px rgba(60, 64, 67, 0.3), 0px 1px 3px 1px rgba(60, 64, 67, 0.15);\n",
              "      fill: #174EA6;\n",
              "    }\n",
              "\n",
              "    .colab-df-buttons div {\n",
              "      margin-bottom: 4px;\n",
              "    }\n",
              "\n",
              "    [theme=dark] .colab-df-convert {\n",
              "      background-color: #3B4455;\n",
              "      fill: #D2E3FC;\n",
              "    }\n",
              "\n",
              "    [theme=dark] .colab-df-convert:hover {\n",
              "      background-color: #434B5C;\n",
              "      box-shadow: 0px 1px 3px 1px rgba(0, 0, 0, 0.15);\n",
              "      filter: drop-shadow(0px 1px 2px rgba(0, 0, 0, 0.3));\n",
              "      fill: #FFFFFF;\n",
              "    }\n",
              "  </style>\n",
              "\n",
              "    <script>\n",
              "      const buttonEl =\n",
              "        document.querySelector('#df-8aeb0ba0-8f80-4f60-91c8-7fa7ba1412dc button.colab-df-convert');\n",
              "      buttonEl.style.display =\n",
              "        google.colab.kernel.accessAllowed ? 'block' : 'none';\n",
              "\n",
              "      async function convertToInteractive(key) {\n",
              "        const element = document.querySelector('#df-8aeb0ba0-8f80-4f60-91c8-7fa7ba1412dc');\n",
              "        const dataTable =\n",
              "          await google.colab.kernel.invokeFunction('convertToInteractive',\n",
              "                                                    [key], {});\n",
              "        if (!dataTable) return;\n",
              "\n",
              "        const docLinkHtml = 'Like what you see? Visit the ' +\n",
              "          '<a target=\"_blank\" href=https://colab.research.google.com/notebooks/data_table.ipynb>data table notebook</a>'\n",
              "          + ' to learn more about interactive tables.';\n",
              "        element.innerHTML = '';\n",
              "        dataTable['output_type'] = 'display_data';\n",
              "        await google.colab.output.renderOutput(dataTable, element);\n",
              "        const docLink = document.createElement('div');\n",
              "        docLink.innerHTML = docLinkHtml;\n",
              "        element.appendChild(docLink);\n",
              "      }\n",
              "    </script>\n",
              "  </div>\n",
              "\n",
              "\n",
              "<div id=\"df-4f6a9c6e-76cc-4eaf-8184-2f88ad7470c4\">\n",
              "  <button class=\"colab-df-quickchart\" onclick=\"quickchart('df-4f6a9c6e-76cc-4eaf-8184-2f88ad7470c4')\"\n",
              "            title=\"Suggest charts\"\n",
              "            style=\"display:none;\">\n",
              "\n",
              "<svg xmlns=\"http://www.w3.org/2000/svg\" height=\"24px\"viewBox=\"0 0 24 24\"\n",
              "     width=\"24px\">\n",
              "    <g>\n",
              "        <path d=\"M19 3H5c-1.1 0-2 .9-2 2v14c0 1.1.9 2 2 2h14c1.1 0 2-.9 2-2V5c0-1.1-.9-2-2-2zM9 17H7v-7h2v7zm4 0h-2V7h2v10zm4 0h-2v-4h2v4z\"/>\n",
              "    </g>\n",
              "</svg>\n",
              "  </button>\n",
              "\n",
              "<style>\n",
              "  .colab-df-quickchart {\n",
              "      --bg-color: #E8F0FE;\n",
              "      --fill-color: #1967D2;\n",
              "      --hover-bg-color: #E2EBFA;\n",
              "      --hover-fill-color: #174EA6;\n",
              "      --disabled-fill-color: #AAA;\n",
              "      --disabled-bg-color: #DDD;\n",
              "  }\n",
              "\n",
              "  [theme=dark] .colab-df-quickchart {\n",
              "      --bg-color: #3B4455;\n",
              "      --fill-color: #D2E3FC;\n",
              "      --hover-bg-color: #434B5C;\n",
              "      --hover-fill-color: #FFFFFF;\n",
              "      --disabled-bg-color: #3B4455;\n",
              "      --disabled-fill-color: #666;\n",
              "  }\n",
              "\n",
              "  .colab-df-quickchart {\n",
              "    background-color: var(--bg-color);\n",
              "    border: none;\n",
              "    border-radius: 50%;\n",
              "    cursor: pointer;\n",
              "    display: none;\n",
              "    fill: var(--fill-color);\n",
              "    height: 32px;\n",
              "    padding: 0;\n",
              "    width: 32px;\n",
              "  }\n",
              "\n",
              "  .colab-df-quickchart:hover {\n",
              "    background-color: var(--hover-bg-color);\n",
              "    box-shadow: 0 1px 2px rgba(60, 64, 67, 0.3), 0 1px 3px 1px rgba(60, 64, 67, 0.15);\n",
              "    fill: var(--button-hover-fill-color);\n",
              "  }\n",
              "\n",
              "  .colab-df-quickchart-complete:disabled,\n",
              "  .colab-df-quickchart-complete:disabled:hover {\n",
              "    background-color: var(--disabled-bg-color);\n",
              "    fill: var(--disabled-fill-color);\n",
              "    box-shadow: none;\n",
              "  }\n",
              "\n",
              "  .colab-df-spinner {\n",
              "    border: 2px solid var(--fill-color);\n",
              "    border-color: transparent;\n",
              "    border-bottom-color: var(--fill-color);\n",
              "    animation:\n",
              "      spin 1s steps(1) infinite;\n",
              "  }\n",
              "\n",
              "  @keyframes spin {\n",
              "    0% {\n",
              "      border-color: transparent;\n",
              "      border-bottom-color: var(--fill-color);\n",
              "      border-left-color: var(--fill-color);\n",
              "    }\n",
              "    20% {\n",
              "      border-color: transparent;\n",
              "      border-left-color: var(--fill-color);\n",
              "      border-top-color: var(--fill-color);\n",
              "    }\n",
              "    30% {\n",
              "      border-color: transparent;\n",
              "      border-left-color: var(--fill-color);\n",
              "      border-top-color: var(--fill-color);\n",
              "      border-right-color: var(--fill-color);\n",
              "    }\n",
              "    40% {\n",
              "      border-color: transparent;\n",
              "      border-right-color: var(--fill-color);\n",
              "      border-top-color: var(--fill-color);\n",
              "    }\n",
              "    60% {\n",
              "      border-color: transparent;\n",
              "      border-right-color: var(--fill-color);\n",
              "    }\n",
              "    80% {\n",
              "      border-color: transparent;\n",
              "      border-right-color: var(--fill-color);\n",
              "      border-bottom-color: var(--fill-color);\n",
              "    }\n",
              "    90% {\n",
              "      border-color: transparent;\n",
              "      border-bottom-color: var(--fill-color);\n",
              "    }\n",
              "  }\n",
              "</style>\n",
              "\n",
              "  <script>\n",
              "    async function quickchart(key) {\n",
              "      const quickchartButtonEl =\n",
              "        document.querySelector('#' + key + ' button');\n",
              "      quickchartButtonEl.disabled = true;  // To prevent multiple clicks.\n",
              "      quickchartButtonEl.classList.add('colab-df-spinner');\n",
              "      try {\n",
              "        const charts = await google.colab.kernel.invokeFunction(\n",
              "            'suggestCharts', [key], {});\n",
              "      } catch (error) {\n",
              "        console.error('Error during call to suggestCharts:', error);\n",
              "      }\n",
              "      quickchartButtonEl.classList.remove('colab-df-spinner');\n",
              "      quickchartButtonEl.classList.add('colab-df-quickchart-complete');\n",
              "    }\n",
              "    (() => {\n",
              "      let quickchartButtonEl =\n",
              "        document.querySelector('#df-4f6a9c6e-76cc-4eaf-8184-2f88ad7470c4 button');\n",
              "      quickchartButtonEl.style.display =\n",
              "        google.colab.kernel.accessAllowed ? 'block' : 'none';\n",
              "    })();\n",
              "  </script>\n",
              "</div>\n",
              "\n",
              "    </div>\n",
              "  </div>\n"
            ]
          },
          "metadata": {},
          "execution_count": 18
        }
      ]
    },
    {
      "cell_type": "markdown",
      "source": [
        "# **Stremming**\n"
      ],
      "metadata": {
        "id": "Q1IVKL4nLMUE"
      }
    },
    {
      "cell_type": "markdown",
      "source": [
        "# **Stemming is the process of reducing words to their base or root form.**\n"
      ],
      "metadata": {
        "id": "ewu374qWLSOm"
      }
    },
    {
      "cell_type": "code",
      "source": [
        "import nltk\n",
        "from nltk.stem.porter import PorterStemmer\n",
        "ps = PorterStemmer()\n",
        "def stem(text):\n",
        "    y = []\n",
        "    for i in text.split():\n",
        "        y.append(ps.stem(i))\n",
        "\n",
        "    return \" \".join(y)\n",
        "new_df[\"tags\"] = new_df[\"tags\"].apply(stem)"
      ],
      "metadata": {
        "id": "DmydfPFBLbEg"
      },
      "execution_count": 19,
      "outputs": []
    },
    {
      "cell_type": "markdown",
      "source": [
        "# **Text Vectorization**\n",
        "\n",
        "\n"
      ],
      "metadata": {
        "id": "xQVtHh4JLcuu"
      }
    },
    {
      "cell_type": "markdown",
      "source": [
        "### **Text vectorization is the process of converting text data into numerical vectors so that they can be used as input for machine learning models.**\n"
      ],
      "metadata": {
        "id": "QW6rv60TMe2i"
      }
    },
    {
      "cell_type": "code",
      "source": [
        "from sklearn.feature_extraction.text import CountVectorizer\n",
        "\n",
        "cv = CountVectorizer(stop_words=\"english\", max_features=2000)\n",
        "vectors = cv.fit_transform(new_df[\"tags\"]).toarray()\n",
        "feature_names = cv.get_feature_names_out()\n",
        "print(feature_names[80:85])\n",
        "\n"
      ],
      "metadata": {
        "id": "Pz2vqVv9LejY",
        "colab": {
          "base_uri": "https://localhost:8080/"
        },
        "outputId": "dbaa0c7f-4030-4fc8-cc8b-3b385a7c6594"
      },
      "execution_count": 32,
      "outputs": [
        {
          "output_type": "stream",
          "name": "stdout",
          "text": [
            "['altern' 'alway' 'amandaseyfri' 'amazon' 'ambit']\n"
          ]
        }
      ]
    },
    {
      "cell_type": "markdown",
      "source": [
        "# **ML Modeling**\n",
        "\n"
      ],
      "metadata": {
        "id": "4PcTEOOjLi9k"
      }
    },
    {
      "cell_type": "markdown",
      "source": [
        "## **Cosine Similarity is a process of creating a machine learning model that utilizes the cosine similarity metric to determine the similarity between two pieces of text.**\n"
      ],
      "metadata": {
        "id": "92vBiaTHMEUL"
      }
    },
    {
      "cell_type": "code",
      "source": [
        "from sklearn.metrics.pairwise import cosine_similarity\n",
        "similarity = cosine_similarity(vectors)\n",
        "similarity.shape"
      ],
      "metadata": {
        "id": "y5XOz7nZLhX1",
        "colab": {
          "base_uri": "https://localhost:8080/"
        },
        "outputId": "37808693-0c83-431a-9c31-9719cad3b4e9"
      },
      "execution_count": 33,
      "outputs": [
        {
          "output_type": "execute_result",
          "data": {
            "text/plain": [
              "(7685, 7685)"
            ]
          },
          "metadata": {},
          "execution_count": 33
        }
      ]
    },
    {
      "cell_type": "markdown",
      "source": [
        "# **Testing**\n"
      ],
      "metadata": {
        "id": "BzPLWC3JLqTO"
      }
    },
    {
      "cell_type": "code",
      "source": [
        "def recommend(movies):\n",
        "    movie_index = new_df[new_df.title == movies].index[0]\n",
        "    distances = similarity[movie_index]\n",
        "    movies_list = sorted(list(enumerate(distances)), reverse=True, key= lambda x:x[1])[1:6]\n",
        "\n",
        "    for i in movies_list:\n",
        "        print(new_df.iloc[i[0]].title)\n",
        "recommend(\"Toy Story\")\n",
        "recommend(\"The Conjuring\")"
      ],
      "metadata": {
        "id": "eZspZidPLoxr",
        "colab": {
          "base_uri": "https://localhost:8080/"
        },
        "outputId": "8598a8f8-42f0-4daa-bbdb-c196dc3a1b4d"
      },
      "execution_count": 31,
      "outputs": [
        {
          "output_type": "stream",
          "name": "stdout",
          "text": [
            "Toy Story 4\n",
            "Toy Story 2\n",
            "Small Soldiers\n",
            "The Indian in the Cupboard\n",
            "Toy Story 3\n",
            "The Conjuring: The Devil Made Me Do It\n",
            "Grave Encounters\n",
            "Terrified\n",
            "A Haunted House 2\n",
            "The Conjuring 2\n"
          ]
        }
      ]
    },
    {
      "cell_type": "markdown",
      "source": [
        "# __Observation__ : The function is returning 10 similar movies."
      ],
      "metadata": {
        "id": "IWku1APVre3m"
      }
    }
  ]
}